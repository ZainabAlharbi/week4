{
  "nbformat": 4,
  "nbformat_minor": 0,
  "metadata": {
    "colab": {
      "name": "week4_Assigment2.ipynb",
      "provenance": []
    },
    "kernelspec": {
      "display_name": "Python 3",
      "language": "python",
      "name": "python3"
    },
    "language_info": {
      "codemirror_mode": {
        "name": "ipython",
        "version": 3
      },
      "file_extension": ".py",
      "mimetype": "text/x-python",
      "name": "python",
      "nbconvert_exporter": "python",
      "pygments_lexer": "ipython3",
      "version": "3.8.5"
    }
  },
  "cells": [
    {
      "cell_type": "markdown",
      "metadata": {
        "id": "RIGhjEoUu32T"
      },
      "source": [
        "Revenue Growth Factor: 18% of prior period Revenue\n",
        "\n",
        "EBITDA Margin: 45.0% of current Revenue\n",
        "\n",
        "Taxes: 21% of current EDBITDA\n",
        "\n",
        "Capital Expenditures: 3% of current Revenue\n",
        "\n",
        "Working Capital Increase: 6% of Revenue\n",
        "\n",
        "EBITDA Exit Multiple: 32.70\n",
        "\n",
        "Discount Factor: 0.94 (6%). "
      ]
    },
    {
      "cell_type": "markdown",
      "metadata": {
        "id": "BQSJhkTVu_cO"
      },
      "source": [
        "We would like a ten year model starting in 2022 to 2032.\n",
        "\n",
        "Your starting baseline historical Revenue is 222 for the FY 2021 (assume it's over for now). \n",
        "\n",
        "Parameters:  Values"
      ]
    },
    {
      "cell_type": "code",
      "metadata": {
        "id": "hbvFHaEluwKn"
      },
      "source": [
        "import numpy as np\n",
        "import pandas as pd\n",
        "from matplotlib import pyplot as plt\n",
        "%matplotlib inline\n",
        "import seaborn as sns"
      ],
      "execution_count": 1,
      "outputs": []
    },
    {
      "cell_type": "code",
      "metadata": {
        "id": "K4f395sBvGA-"
      },
      "source": [
        "Dates= ['2021','2022', '2023', '2024', '2025', '2026', '2027','2028', '2029','2030', '2031','2032' ]\n",
        "Revenue = pd.Series(index=Dates, dtype='float64')\n",
        "Revenue['2021'] = 222\n",
        "#Revenue"
      ],
      "execution_count": 2,
      "outputs": []
    },
    {
      "cell_type": "code",
      "metadata": {
        "id": "bEoHljDewKtZ"
      },
      "source": [
        "growth_rate = 0.18\n",
        "for year in range(1, 12):\n",
        "    Revenue[year] = Revenue[year - 1] * (1 + growth_rate)\n",
        "#Revenue   "
      ],
      "execution_count": 3,
      "outputs": []
    },
    {
      "cell_type": "code",
      "metadata": {
        "id": "ljYBaBT1wtbB"
      },
      "source": [
        "ebitda_margin = 0.45\n",
        "ebitda = Revenue * ebitda_margin \n",
        "#ebitda"
      ],
      "execution_count": 4,
      "outputs": []
    },
    {
      "cell_type": "code",
      "metadata": {
        "id": "1xkEMhCG_bb-"
      },
      "source": [
        "tax_rate = 0.21\n",
        "taxes = -ebitda * tax_rate\n",
        "#taxes"
      ],
      "execution_count": 5,
      "outputs": []
    },
    {
      "cell_type": "code",
      "metadata": {
        "id": "blXujcp4_27H"
      },
      "source": [
        "capex_percent = 0.03\n",
        "capital_expenditures = -(Revenue * capex_percent)\n",
        "#capital_expenditures"
      ],
      "execution_count": 6,
      "outputs": []
    },
    {
      "cell_type": "code",
      "metadata": {
        "id": "2Cm8VujkAX28"
      },
      "source": [
        "nwc_percent = 0.06\n",
        "nwc = -Revenue * nwc_percent\n",
        "#nwc"
      ],
      "execution_count": 7,
      "outputs": []
    },
    {
      "cell_type": "code",
      "metadata": {
        "id": "2O0FzxIgApl0"
      },
      "source": [
        "cash_flow = ebitda + taxes + capital_expenditures + nwc\n",
        "#cash_flow"
      ],
      "execution_count": 8,
      "outputs": []
    },
    {
      "cell_type": "code",
      "metadata": {
        "id": "cwXCel_IjdXa"
      },
      "source": [
        "discount_rate = 0.06\n",
        "discount_factor= pd.Series(index=Dates, dtype='float64')\n",
        "\n",
        "for year in range(0, 12):\n",
        "    discount_factor[year]= (1 / (1 + discount_rate)) ** year\n",
        "#discount_factor"
      ],
      "execution_count": 9,
      "outputs": []
    },
    {
      "cell_type": "code",
      "metadata": {
        "id": "UehyX9v0FPdr"
      },
      "source": [
        "#Present Value of Future Cash Flow\n",
        "pv_of_fcf = (cash_flow * discount_factor)\n",
        "#pv_of_fcf"
      ],
      "execution_count": 10,
      "outputs": []
    },
    {
      "cell_type": "code",
      "metadata": {
        "colab": {
          "base_uri": "https://localhost:8080/",
          "height": 421
        },
        "id": "FwaH5VJFjdXf",
        "outputId": "facdf01d-e57c-49ad-f541-0edb5c301ef9"
      },
      "source": [
        "data = {'revenue': Revenue,\n",
        "        'EBITDA':ebitda, \n",
        "        'taxes':taxes, \n",
        "        'cap_ex':capital_expenditures, \n",
        "         'work_cap':nwc,\n",
        "        'cash_flow':cash_flow, \n",
        "        'discount_factor': discount_factor, \n",
        "        'present_value_fcf':pv_of_fcf }\n",
        "df = pd.DataFrame(data, index= Dates)  \n",
        "df"
      ],
      "execution_count": 11,
      "outputs": [
        {
          "output_type": "execute_result",
          "data": {
            "text/html": [
              "<div>\n",
              "<style scoped>\n",
              "    .dataframe tbody tr th:only-of-type {\n",
              "        vertical-align: middle;\n",
              "    }\n",
              "\n",
              "    .dataframe tbody tr th {\n",
              "        vertical-align: top;\n",
              "    }\n",
              "\n",
              "    .dataframe thead th {\n",
              "        text-align: right;\n",
              "    }\n",
              "</style>\n",
              "<table border=\"1\" class=\"dataframe\">\n",
              "  <thead>\n",
              "    <tr style=\"text-align: right;\">\n",
              "      <th></th>\n",
              "      <th>revenue</th>\n",
              "      <th>EBITDA</th>\n",
              "      <th>taxes</th>\n",
              "      <th>cap_ex</th>\n",
              "      <th>work_cap</th>\n",
              "      <th>cash_flow</th>\n",
              "      <th>discount_factor</th>\n",
              "      <th>present_value_fcf</th>\n",
              "    </tr>\n",
              "  </thead>\n",
              "  <tbody>\n",
              "    <tr>\n",
              "      <th>2021</th>\n",
              "      <td>222.000000</td>\n",
              "      <td>99.900000</td>\n",
              "      <td>-20.979000</td>\n",
              "      <td>-6.660000</td>\n",
              "      <td>-13.320000</td>\n",
              "      <td>58.941000</td>\n",
              "      <td>1.000000</td>\n",
              "      <td>58.941000</td>\n",
              "    </tr>\n",
              "    <tr>\n",
              "      <th>2022</th>\n",
              "      <td>261.960000</td>\n",
              "      <td>117.882000</td>\n",
              "      <td>-24.755220</td>\n",
              "      <td>-7.858800</td>\n",
              "      <td>-15.717600</td>\n",
              "      <td>69.550380</td>\n",
              "      <td>0.943396</td>\n",
              "      <td>65.613566</td>\n",
              "    </tr>\n",
              "    <tr>\n",
              "      <th>2023</th>\n",
              "      <td>309.112800</td>\n",
              "      <td>139.100760</td>\n",
              "      <td>-29.211160</td>\n",
              "      <td>-9.273384</td>\n",
              "      <td>-18.546768</td>\n",
              "      <td>82.069448</td>\n",
              "      <td>0.889996</td>\n",
              "      <td>73.041517</td>\n",
              "    </tr>\n",
              "    <tr>\n",
              "      <th>2024</th>\n",
              "      <td>364.753104</td>\n",
              "      <td>164.138897</td>\n",
              "      <td>-34.469168</td>\n",
              "      <td>-10.942593</td>\n",
              "      <td>-21.885186</td>\n",
              "      <td>96.841949</td>\n",
              "      <td>0.839619</td>\n",
              "      <td>81.310368</td>\n",
              "    </tr>\n",
              "    <tr>\n",
              "      <th>2025</th>\n",
              "      <td>430.408663</td>\n",
              "      <td>193.683898</td>\n",
              "      <td>-40.673619</td>\n",
              "      <td>-12.912260</td>\n",
              "      <td>-25.824520</td>\n",
              "      <td>114.273500</td>\n",
              "      <td>0.792094</td>\n",
              "      <td>90.515315</td>\n",
              "    </tr>\n",
              "    <tr>\n",
              "      <th>2026</th>\n",
              "      <td>507.882222</td>\n",
              "      <td>228.547000</td>\n",
              "      <td>-47.994870</td>\n",
              "      <td>-15.236467</td>\n",
              "      <td>-30.472933</td>\n",
              "      <td>134.842730</td>\n",
              "      <td>0.747258</td>\n",
              "      <td>100.762332</td>\n",
              "    </tr>\n",
              "    <tr>\n",
              "      <th>2027</th>\n",
              "      <td>599.301022</td>\n",
              "      <td>269.685460</td>\n",
              "      <td>-56.633947</td>\n",
              "      <td>-17.979031</td>\n",
              "      <td>-35.958061</td>\n",
              "      <td>159.114421</td>\n",
              "      <td>0.704961</td>\n",
              "      <td>112.169388</td>\n",
              "    </tr>\n",
              "    <tr>\n",
              "      <th>2028</th>\n",
              "      <td>707.175206</td>\n",
              "      <td>318.228843</td>\n",
              "      <td>-66.828057</td>\n",
              "      <td>-21.215256</td>\n",
              "      <td>-42.430512</td>\n",
              "      <td>187.755017</td>\n",
              "      <td>0.665057</td>\n",
              "      <td>124.867810</td>\n",
              "    </tr>\n",
              "    <tr>\n",
              "      <th>2029</th>\n",
              "      <td>834.466743</td>\n",
              "      <td>375.510034</td>\n",
              "      <td>-78.857107</td>\n",
              "      <td>-25.034002</td>\n",
              "      <td>-50.068005</td>\n",
              "      <td>221.550920</td>\n",
              "      <td>0.627412</td>\n",
              "      <td>139.003788</td>\n",
              "    </tr>\n",
              "    <tr>\n",
              "      <th>2030</th>\n",
              "      <td>984.670757</td>\n",
              "      <td>443.101841</td>\n",
              "      <td>-93.051387</td>\n",
              "      <td>-29.540123</td>\n",
              "      <td>-59.080245</td>\n",
              "      <td>261.430086</td>\n",
              "      <td>0.591898</td>\n",
              "      <td>154.740066</td>\n",
              "    </tr>\n",
              "    <tr>\n",
              "      <th>2031</th>\n",
              "      <td>1161.911493</td>\n",
              "      <td>522.860172</td>\n",
              "      <td>-109.800636</td>\n",
              "      <td>-34.857345</td>\n",
              "      <td>-69.714690</td>\n",
              "      <td>308.487501</td>\n",
              "      <td>0.558395</td>\n",
              "      <td>172.257810</td>\n",
              "    </tr>\n",
              "    <tr>\n",
              "      <th>2032</th>\n",
              "      <td>1371.055562</td>\n",
              "      <td>616.975003</td>\n",
              "      <td>-129.564751</td>\n",
              "      <td>-41.131667</td>\n",
              "      <td>-82.263334</td>\n",
              "      <td>364.015252</td>\n",
              "      <td>0.526788</td>\n",
              "      <td>191.758694</td>\n",
              "    </tr>\n",
              "  </tbody>\n",
              "</table>\n",
              "</div>"
            ],
            "text/plain": [
              "          revenue      EBITDA  ...  discount_factor  present_value_fcf\n",
              "2021   222.000000   99.900000  ...         1.000000          58.941000\n",
              "2022   261.960000  117.882000  ...         0.943396          65.613566\n",
              "2023   309.112800  139.100760  ...         0.889996          73.041517\n",
              "2024   364.753104  164.138897  ...         0.839619          81.310368\n",
              "2025   430.408663  193.683898  ...         0.792094          90.515315\n",
              "2026   507.882222  228.547000  ...         0.747258         100.762332\n",
              "2027   599.301022  269.685460  ...         0.704961         112.169388\n",
              "2028   707.175206  318.228843  ...         0.665057         124.867810\n",
              "2029   834.466743  375.510034  ...         0.627412         139.003788\n",
              "2030   984.670757  443.101841  ...         0.591898         154.740066\n",
              "2031  1161.911493  522.860172  ...         0.558395         172.257810\n",
              "2032  1371.055562  616.975003  ...         0.526788         191.758694\n",
              "\n",
              "[12 rows x 8 columns]"
            ]
          },
          "metadata": {},
          "execution_count": 11
        }
      ]
    },
    {
      "cell_type": "code",
      "metadata": {
        "colab": {
          "base_uri": "https://localhost:8080/"
        },
        "id": "m4yg9gK_kYZr",
        "outputId": "f68ebc97-b9ea-423e-aed3-dbb14df06d0a"
      },
      "source": [
        "#total present value of Future Cash Flows\n",
        "t_pv_of_fcf = pv_of_fcf.sum()\n",
        "t_pv_of_fcf"
      ],
      "execution_count": 12,
      "outputs": [
        {
          "output_type": "execute_result",
          "data": {
            "text/plain": [
              "1364.9816538112213"
            ]
          },
          "metadata": {},
          "execution_count": 12
        }
      ]
    },
    {
      "cell_type": "code",
      "metadata": {
        "colab": {
          "base_uri": "https://localhost:8080/"
        },
        "id": "XrRWdSAgpeKR",
        "outputId": "e9535671-6180-4d02-9968-182f01063788"
      },
      "source": [
        "#terminal_value \n",
        "ebitda_exit_multiple = 32.70\n",
        "terminal_value = (ebitda_exit_multiple*ebitda[11])\n",
        "terminal_value"
      ],
      "execution_count": 13,
      "outputs": [
        {
          "output_type": "execute_result",
          "data": {
            "text/plain": [
              "20175.082590019254"
            ]
          },
          "metadata": {},
          "execution_count": 13
        }
      ]
    },
    {
      "cell_type": "code",
      "metadata": {
        "colab": {
          "base_uri": "https://localhost:8080/"
        },
        "id": "2BmlwLy8rm91",
        "outputId": "9b83c171-7f92-4d87-c5e6-002d65420da8"
      },
      "source": [
        "#present_assets_value\n",
        "present_assets_value = (t_pv_of_fcf + terminal_value)\n",
        "present_assets_value"
      ],
      "execution_count": 14,
      "outputs": [
        {
          "output_type": "execute_result",
          "data": {
            "text/plain": [
              "21540.064243830475"
            ]
          },
          "metadata": {},
          "execution_count": 14
        }
      ]
    },
    {
      "cell_type": "code",
      "metadata": {
        "colab": {
          "base_uri": "https://localhost:8080/"
        },
        "id": "ZSeqpMU7jdXp",
        "outputId": "a21ab0be-2396-4e54-cc6d-63a3f4e0866f"
      },
      "source": [
        "print(f\"\"\"Our projected Present Value of Projected Future Cash Flows are:{t_pv_of_fcf:.2f}.\\n\n",
        "We are providing revenue guidance in 2032 to be: {Revenue['2032']:.2f}.\n",
        "      \\nWith an estimated EBITDA around:{ebitda['2032']:.2f}.\"\"\")\n"
      ],
      "execution_count": 15,
      "outputs": [
        {
          "output_type": "stream",
          "name": "stdout",
          "text": [
            "Our projected Present Value of Projected Future Cash Flows are:1364.98.\n",
            "\n",
            "We are providing revenue guidance in 2032 to be: 1371.06.\n",
            "      \n",
            "With an estimated EBITDA around:616.98.\n"
          ]
        }
      ]
    },
    {
      "cell_type": "code",
      "metadata": {
        "colab": {
          "base_uri": "https://localhost:8080/"
        },
        "id": "v1V0I-8ujdXs",
        "outputId": "11dc1bdf-e5fe-4570-e33f-3b986de5d635"
      },
      "source": [
        "print(f\"\"\"The terminal value at this time given a multiple of {ebitda_exit_multiple:.2f} \n",
        "\\nand the above EBITDA for 2032, would equal: {terminal_value:.2f}.\"\"\")"
      ],
      "execution_count": 16,
      "outputs": [
        {
          "output_type": "stream",
          "name": "stdout",
          "text": [
            "The terminal value at this time given a multiple of 32.70 \n",
            "\n",
            "and the above EBITDA for 2032, would equal: 20175.08.\n"
          ]
        }
      ]
    },
    {
      "cell_type": "code",
      "metadata": {
        "colab": {
          "base_uri": "https://localhost:8080/",
          "height": 421
        },
        "id": "XdjSPryNjdXu",
        "outputId": "0870e5b4-c9cf-403c-c8a2-1ffc5ed8474a"
      },
      "source": [
        "plt.figure(figsize=(10,6))\n",
        "\n",
        "# Add title\n",
        "plt.title(\"Cash Flow  From 2021 to 2032\")\n",
        "\n",
        "# Bar chart \n",
        "sns.barplot(x=df.index, y=df['cash_flow'])\n",
        "\n",
        "# Add label for vertical axis\n",
        "plt.xlabel(\"Years\")\n",
        "plt.ylabel(\"Cash Flow\")"
      ],
      "execution_count": 17,
      "outputs": [
        {
          "output_type": "execute_result",
          "data": {
            "text/plain": [
              "Text(0, 0.5, 'Cash Flow')"
            ]
          },
          "metadata": {},
          "execution_count": 17
        },
        {
          "output_type": "display_data",
          "data": {
            "image/png": "[encoded data removed]",
            "text/plain": [
              "<Figure size 720x432 with 1 Axes>"
            ]
          },
          "metadata": {
            "needs_background": "light"
          }
        }
      ]
    }
  ]
}